{
 "cells": [
  {
   "cell_type": "markdown",
   "metadata": {},
   "source": [
    "# Introduction\n",
    "\n",
    "This is a project I created using guided steps from Dataquest.io. The aim of the project is to practice using Pandas and SQLite to clean and normalize a dataset prior to analysis. The data deals with Academy Awards nominations, and was downloaded in CSV format from https://www.aggdata.com/awards/oscar, along with a list of ceremony host names sourced from Wikipedia. "
   ]
  },
  {
   "cell_type": "markdown",
   "metadata": {},
   "source": [
    "# Preparing the dataset for SQLite\n",
    "\n",
    "The first step is cleaning the data. This includes removing unnecessary columns, separating columns that contain numerous data points into distinct columns, and formatting the data contained in the colums so as to be more useful. "
   ]
  },
  {
   "cell_type": "code",
   "execution_count": 22,
   "metadata": {
    "collapsed": false
   },
   "outputs": [
    {
     "name": "stdout",
     "output_type": "stream",
     "text": [
      "(10137, 11)\n"
     ]
    },
    {
     "data": {
      "text/html": [
       "<div>\n",
       "<table border=\"1\" class=\"dataframe\">\n",
       "  <thead>\n",
       "    <tr style=\"text-align: right;\">\n",
       "      <th></th>\n",
       "      <th>Year</th>\n",
       "      <th>Category</th>\n",
       "      <th>Nominee</th>\n",
       "      <th>Additional Info</th>\n",
       "      <th>Won?</th>\n",
       "      <th>Unnamed: 5</th>\n",
       "      <th>Unnamed: 6</th>\n",
       "      <th>Unnamed: 7</th>\n",
       "      <th>Unnamed: 8</th>\n",
       "      <th>Unnamed: 9</th>\n",
       "      <th>Unnamed: 10</th>\n",
       "    </tr>\n",
       "  </thead>\n",
       "  <tbody>\n",
       "    <tr>\n",
       "      <th>0</th>\n",
       "      <td>2010 (83rd)</td>\n",
       "      <td>Actor -- Leading Role</td>\n",
       "      <td>Javier Bardem</td>\n",
       "      <td>Biutiful {'Uxbal'}</td>\n",
       "      <td>NO</td>\n",
       "      <td>NaN</td>\n",
       "      <td>NaN</td>\n",
       "      <td>NaN</td>\n",
       "      <td>NaN</td>\n",
       "      <td>NaN</td>\n",
       "      <td>NaN</td>\n",
       "    </tr>\n",
       "    <tr>\n",
       "      <th>1</th>\n",
       "      <td>2010 (83rd)</td>\n",
       "      <td>Actor -- Leading Role</td>\n",
       "      <td>Jeff Bridges</td>\n",
       "      <td>True Grit {'Rooster Cogburn'}</td>\n",
       "      <td>NO</td>\n",
       "      <td>NaN</td>\n",
       "      <td>NaN</td>\n",
       "      <td>NaN</td>\n",
       "      <td>NaN</td>\n",
       "      <td>NaN</td>\n",
       "      <td>NaN</td>\n",
       "    </tr>\n",
       "    <tr>\n",
       "      <th>2</th>\n",
       "      <td>2010 (83rd)</td>\n",
       "      <td>Actor -- Leading Role</td>\n",
       "      <td>Jesse Eisenberg</td>\n",
       "      <td>The Social Network {'Mark Zuckerberg'}</td>\n",
       "      <td>NO</td>\n",
       "      <td>NaN</td>\n",
       "      <td>NaN</td>\n",
       "      <td>NaN</td>\n",
       "      <td>NaN</td>\n",
       "      <td>NaN</td>\n",
       "      <td>NaN</td>\n",
       "    </tr>\n",
       "    <tr>\n",
       "      <th>3</th>\n",
       "      <td>2010 (83rd)</td>\n",
       "      <td>Actor -- Leading Role</td>\n",
       "      <td>Colin Firth</td>\n",
       "      <td>The King's Speech {'King George VI'}</td>\n",
       "      <td>YES</td>\n",
       "      <td>NaN</td>\n",
       "      <td>NaN</td>\n",
       "      <td>NaN</td>\n",
       "      <td>NaN</td>\n",
       "      <td>NaN</td>\n",
       "      <td>NaN</td>\n",
       "    </tr>\n",
       "    <tr>\n",
       "      <th>4</th>\n",
       "      <td>2010 (83rd)</td>\n",
       "      <td>Actor -- Leading Role</td>\n",
       "      <td>James Franco</td>\n",
       "      <td>127 Hours {'Aron Ralston'}</td>\n",
       "      <td>NO</td>\n",
       "      <td>NaN</td>\n",
       "      <td>NaN</td>\n",
       "      <td>NaN</td>\n",
       "      <td>NaN</td>\n",
       "      <td>NaN</td>\n",
       "      <td>NaN</td>\n",
       "    </tr>\n",
       "  </tbody>\n",
       "</table>\n",
       "</div>"
      ],
      "text/plain": [
       "          Year               Category          Nominee  \\\n",
       "0  2010 (83rd)  Actor -- Leading Role    Javier Bardem   \n",
       "1  2010 (83rd)  Actor -- Leading Role     Jeff Bridges   \n",
       "2  2010 (83rd)  Actor -- Leading Role  Jesse Eisenberg   \n",
       "3  2010 (83rd)  Actor -- Leading Role      Colin Firth   \n",
       "4  2010 (83rd)  Actor -- Leading Role     James Franco   \n",
       "\n",
       "                          Additional Info Won? Unnamed: 5 Unnamed: 6  \\\n",
       "0                      Biutiful {'Uxbal'}   NO        NaN        NaN   \n",
       "1           True Grit {'Rooster Cogburn'}   NO        NaN        NaN   \n",
       "2  The Social Network {'Mark Zuckerberg'}   NO        NaN        NaN   \n",
       "3    The King's Speech {'King George VI'}  YES        NaN        NaN   \n",
       "4              127 Hours {'Aron Ralston'}   NO        NaN        NaN   \n",
       "\n",
       "  Unnamed: 7 Unnamed: 8 Unnamed: 9 Unnamed: 10  \n",
       "0        NaN        NaN        NaN         NaN  \n",
       "1        NaN        NaN        NaN         NaN  \n",
       "2        NaN        NaN        NaN         NaN  \n",
       "3        NaN        NaN        NaN         NaN  \n",
       "4        NaN        NaN        NaN         NaN  "
      ]
     },
     "execution_count": 22,
     "metadata": {},
     "output_type": "execute_result"
    }
   ],
   "source": [
    "#Import pandas and read in the dataset. Look at the shape and first few lines of the dataset.\n",
    "\n",
    "import pandas as pd\n",
    "df = pd.read_csv(\"academy_awards.csv\", encoding=\"ISO-8859-1\")\n",
    "print(df.shape)\n",
    "df.head()"
   ]
  },
  {
   "cell_type": "code",
   "execution_count": 23,
   "metadata": {
    "collapsed": false
   },
   "outputs": [
    {
     "name": "stdout",
     "output_type": "stream",
     "text": [
      "*                                                                                                               7\n",
      " discoverer of stars                                                                                            1\n",
      " D.B. \"Don\" Keele and Mark E. Engebretson has resulted in the over 20-year dominance of constant-directivity    1\n",
      " error-prone measurements on sets. [Digital Imaging Technology]\"                                                1\n",
      " resilience                                                                                                     1\n",
      "Name: Unnamed: 5, dtype: int64\n",
      "*                                                                   9\n",
      " sympathetic                                                        1\n",
      " direct radiator bass style cinema loudspeaker systems. [Sound]\"    1\n",
      " flexibility and water resistance                                   1\n",
      "Name: Unnamed: 6, dtype: int64\n",
      " kindly                                               1\n",
      "*                                                     1\n",
      " while requiring no dangerous solvents. [Systems]\"    1\n",
      "Name: Unnamed: 7, dtype: int64\n",
      "*                                                 1\n",
      " understanding comedy genius - Mack Sennett.\"\"    1\n",
      "Name: Unnamed: 8, dtype: int64\n",
      "*    1\n",
      "Name: Unnamed: 9, dtype: int64\n",
      "*    1\n",
      "Name: Unnamed: 10, dtype: int64\n"
     ]
    }
   ],
   "source": [
    "# Find out what's in the \"Unnamed\" columns.\n",
    "\n",
    "print(df[\"Unnamed: 5\"].value_counts())\n",
    "print(df[\"Unnamed: 6\"].value_counts())\n",
    "print(df[\"Unnamed: 7\"].value_counts())\n",
    "print(df[\"Unnamed: 8\"].value_counts())\n",
    "print(df[\"Unnamed: 9\"].value_counts())\n",
    "print(df[\"Unnamed: 10\"].value_counts())"
   ]
  },
  {
   "cell_type": "markdown",
   "metadata": {},
   "source": [
    "Out of over 10,000 rows of data, there are only a few rows that contain data in these columns. The entries in these columns appear to be random notes and will most likely not be helpful for our data analysis. We will filter them out. First, however, we will clean up the \"Year\" and \"Won\" columns."
   ]
  },
  {
   "cell_type": "code",
   "execution_count": 24,
   "metadata": {
    "collapsed": false
   },
   "outputs": [
    {
     "name": "stdout",
     "output_type": "stream",
     "text": [
      "0    2010 (83rd)\n",
      "1    2010 (83rd)\n",
      "2    2010 (83rd)\n",
      "3    2010 (83rd)\n",
      "4    2010 (83rd)\n",
      "Name: Year, dtype: object\n"
     ]
    },
    {
     "data": {
      "text/plain": [
       "0    2010\n",
       "1    2010\n",
       "2    2010\n",
       "3    2010\n",
       "4    2010\n",
       "Name: Year, dtype: int64"
      ]
     },
     "execution_count": 24,
     "metadata": {},
     "output_type": "execute_result"
    }
   ],
   "source": [
    "# Remove ordinal year and leave only the 4-digit year.\n",
    "\n",
    "print(df[\"Year\"].head())\n",
    "df[\"Year\"] = df[\"Year\"].str[0:4]\n",
    "df[\"Year\"] = df[\"Year\"].astype(int)\n",
    "df[\"Year\"].head()"
   ]
  },
  {
   "cell_type": "code",
   "execution_count": 25,
   "metadata": {
    "collapsed": false
   },
   "outputs": [
    {
     "data": {
      "text/html": [
       "<div>\n",
       "<table border=\"1\" class=\"dataframe\">\n",
       "  <thead>\n",
       "    <tr style=\"text-align: right;\">\n",
       "      <th></th>\n",
       "      <th>Year</th>\n",
       "      <th>Category</th>\n",
       "      <th>Nominee</th>\n",
       "      <th>Additional Info</th>\n",
       "      <th>Won?</th>\n",
       "      <th>Unnamed: 5</th>\n",
       "      <th>Unnamed: 6</th>\n",
       "      <th>Unnamed: 7</th>\n",
       "      <th>Unnamed: 8</th>\n",
       "      <th>Unnamed: 9</th>\n",
       "      <th>Unnamed: 10</th>\n",
       "      <th>Won</th>\n",
       "    </tr>\n",
       "  </thead>\n",
       "  <tbody>\n",
       "    <tr>\n",
       "      <th>0</th>\n",
       "      <td>2010</td>\n",
       "      <td>Actor -- Leading Role</td>\n",
       "      <td>Javier Bardem</td>\n",
       "      <td>Biutiful {'Uxbal'}</td>\n",
       "      <td>NO</td>\n",
       "      <td>NaN</td>\n",
       "      <td>NaN</td>\n",
       "      <td>NaN</td>\n",
       "      <td>NaN</td>\n",
       "      <td>NaN</td>\n",
       "      <td>NaN</td>\n",
       "      <td>0.0</td>\n",
       "    </tr>\n",
       "    <tr>\n",
       "      <th>1</th>\n",
       "      <td>2010</td>\n",
       "      <td>Actor -- Leading Role</td>\n",
       "      <td>Jeff Bridges</td>\n",
       "      <td>True Grit {'Rooster Cogburn'}</td>\n",
       "      <td>NO</td>\n",
       "      <td>NaN</td>\n",
       "      <td>NaN</td>\n",
       "      <td>NaN</td>\n",
       "      <td>NaN</td>\n",
       "      <td>NaN</td>\n",
       "      <td>NaN</td>\n",
       "      <td>0.0</td>\n",
       "    </tr>\n",
       "    <tr>\n",
       "      <th>2</th>\n",
       "      <td>2010</td>\n",
       "      <td>Actor -- Leading Role</td>\n",
       "      <td>Jesse Eisenberg</td>\n",
       "      <td>The Social Network {'Mark Zuckerberg'}</td>\n",
       "      <td>NO</td>\n",
       "      <td>NaN</td>\n",
       "      <td>NaN</td>\n",
       "      <td>NaN</td>\n",
       "      <td>NaN</td>\n",
       "      <td>NaN</td>\n",
       "      <td>NaN</td>\n",
       "      <td>0.0</td>\n",
       "    </tr>\n",
       "    <tr>\n",
       "      <th>3</th>\n",
       "      <td>2010</td>\n",
       "      <td>Actor -- Leading Role</td>\n",
       "      <td>Colin Firth</td>\n",
       "      <td>The King's Speech {'King George VI'}</td>\n",
       "      <td>YES</td>\n",
       "      <td>NaN</td>\n",
       "      <td>NaN</td>\n",
       "      <td>NaN</td>\n",
       "      <td>NaN</td>\n",
       "      <td>NaN</td>\n",
       "      <td>NaN</td>\n",
       "      <td>1.0</td>\n",
       "    </tr>\n",
       "    <tr>\n",
       "      <th>4</th>\n",
       "      <td>2010</td>\n",
       "      <td>Actor -- Leading Role</td>\n",
       "      <td>James Franco</td>\n",
       "      <td>127 Hours {'Aron Ralston'}</td>\n",
       "      <td>NO</td>\n",
       "      <td>NaN</td>\n",
       "      <td>NaN</td>\n",
       "      <td>NaN</td>\n",
       "      <td>NaN</td>\n",
       "      <td>NaN</td>\n",
       "      <td>NaN</td>\n",
       "      <td>0.0</td>\n",
       "    </tr>\n",
       "  </tbody>\n",
       "</table>\n",
       "</div>"
      ],
      "text/plain": [
       "   Year               Category          Nominee  \\\n",
       "0  2010  Actor -- Leading Role    Javier Bardem   \n",
       "1  2010  Actor -- Leading Role     Jeff Bridges   \n",
       "2  2010  Actor -- Leading Role  Jesse Eisenberg   \n",
       "3  2010  Actor -- Leading Role      Colin Firth   \n",
       "4  2010  Actor -- Leading Role     James Franco   \n",
       "\n",
       "                          Additional Info Won? Unnamed: 5 Unnamed: 6  \\\n",
       "0                      Biutiful {'Uxbal'}   NO        NaN        NaN   \n",
       "1           True Grit {'Rooster Cogburn'}   NO        NaN        NaN   \n",
       "2  The Social Network {'Mark Zuckerberg'}   NO        NaN        NaN   \n",
       "3    The King's Speech {'King George VI'}  YES        NaN        NaN   \n",
       "4              127 Hours {'Aron Ralston'}   NO        NaN        NaN   \n",
       "\n",
       "  Unnamed: 7 Unnamed: 8 Unnamed: 9 Unnamed: 10  Won  \n",
       "0        NaN        NaN        NaN         NaN  0.0  \n",
       "1        NaN        NaN        NaN         NaN  0.0  \n",
       "2        NaN        NaN        NaN         NaN  0.0  \n",
       "3        NaN        NaN        NaN         NaN  1.0  \n",
       "4        NaN        NaN        NaN         NaN  0.0  "
      ]
     },
     "execution_count": 25,
     "metadata": {},
     "output_type": "execute_result"
    }
   ],
   "source": [
    "# Create a new column that indicates whether the nominee won using 0 for \"no\" and 1 for \"yes\".\n",
    "# This is important because SQLite uses 0 and 1 to represent Boolean values.\n",
    "\n",
    "boolean = {\"NO\": 0, \"YES\": 1}\n",
    "df[\"Won\"] = df[\"Won?\"].map(boolean)\n",
    "df.head()\n"
   ]
  },
  {
   "cell_type": "markdown",
   "metadata": {},
   "source": [
    "Now we will create a dataframe containing only the rows of data we want to work with. For the purposes of this project, we will focus on nominations for actors and actresses in leading and supporting roles, starting in the year 2000. "
   ]
  },
  {
   "cell_type": "code",
   "execution_count": 26,
   "metadata": {
    "collapsed": false
   },
   "outputs": [
    {
     "data": {
      "text/html": [
       "<div>\n",
       "<table border=\"1\" class=\"dataframe\">\n",
       "  <thead>\n",
       "    <tr style=\"text-align: right;\">\n",
       "      <th></th>\n",
       "      <th>Year</th>\n",
       "      <th>Category</th>\n",
       "      <th>Nominee</th>\n",
       "      <th>Additional Info</th>\n",
       "      <th>Won?</th>\n",
       "      <th>Unnamed: 5</th>\n",
       "      <th>Unnamed: 6</th>\n",
       "      <th>Unnamed: 7</th>\n",
       "      <th>Unnamed: 8</th>\n",
       "      <th>Unnamed: 9</th>\n",
       "      <th>Unnamed: 10</th>\n",
       "      <th>Won</th>\n",
       "    </tr>\n",
       "  </thead>\n",
       "  <tbody>\n",
       "    <tr>\n",
       "      <th>0</th>\n",
       "      <td>2010</td>\n",
       "      <td>Actor -- Leading Role</td>\n",
       "      <td>Javier Bardem</td>\n",
       "      <td>Biutiful {'Uxbal'}</td>\n",
       "      <td>NO</td>\n",
       "      <td>NaN</td>\n",
       "      <td>NaN</td>\n",
       "      <td>NaN</td>\n",
       "      <td>NaN</td>\n",
       "      <td>NaN</td>\n",
       "      <td>NaN</td>\n",
       "      <td>0.0</td>\n",
       "    </tr>\n",
       "    <tr>\n",
       "      <th>1</th>\n",
       "      <td>2010</td>\n",
       "      <td>Actor -- Leading Role</td>\n",
       "      <td>Jeff Bridges</td>\n",
       "      <td>True Grit {'Rooster Cogburn'}</td>\n",
       "      <td>NO</td>\n",
       "      <td>NaN</td>\n",
       "      <td>NaN</td>\n",
       "      <td>NaN</td>\n",
       "      <td>NaN</td>\n",
       "      <td>NaN</td>\n",
       "      <td>NaN</td>\n",
       "      <td>0.0</td>\n",
       "    </tr>\n",
       "    <tr>\n",
       "      <th>2</th>\n",
       "      <td>2010</td>\n",
       "      <td>Actor -- Leading Role</td>\n",
       "      <td>Jesse Eisenberg</td>\n",
       "      <td>The Social Network {'Mark Zuckerberg'}</td>\n",
       "      <td>NO</td>\n",
       "      <td>NaN</td>\n",
       "      <td>NaN</td>\n",
       "      <td>NaN</td>\n",
       "      <td>NaN</td>\n",
       "      <td>NaN</td>\n",
       "      <td>NaN</td>\n",
       "      <td>0.0</td>\n",
       "    </tr>\n",
       "    <tr>\n",
       "      <th>3</th>\n",
       "      <td>2010</td>\n",
       "      <td>Actor -- Leading Role</td>\n",
       "      <td>Colin Firth</td>\n",
       "      <td>The King's Speech {'King George VI'}</td>\n",
       "      <td>YES</td>\n",
       "      <td>NaN</td>\n",
       "      <td>NaN</td>\n",
       "      <td>NaN</td>\n",
       "      <td>NaN</td>\n",
       "      <td>NaN</td>\n",
       "      <td>NaN</td>\n",
       "      <td>1.0</td>\n",
       "    </tr>\n",
       "    <tr>\n",
       "      <th>4</th>\n",
       "      <td>2010</td>\n",
       "      <td>Actor -- Leading Role</td>\n",
       "      <td>James Franco</td>\n",
       "      <td>127 Hours {'Aron Ralston'}</td>\n",
       "      <td>NO</td>\n",
       "      <td>NaN</td>\n",
       "      <td>NaN</td>\n",
       "      <td>NaN</td>\n",
       "      <td>NaN</td>\n",
       "      <td>NaN</td>\n",
       "      <td>NaN</td>\n",
       "      <td>0.0</td>\n",
       "    </tr>\n",
       "  </tbody>\n",
       "</table>\n",
       "</div>"
      ],
      "text/plain": [
       "   Year               Category          Nominee  \\\n",
       "0  2010  Actor -- Leading Role    Javier Bardem   \n",
       "1  2010  Actor -- Leading Role     Jeff Bridges   \n",
       "2  2010  Actor -- Leading Role  Jesse Eisenberg   \n",
       "3  2010  Actor -- Leading Role      Colin Firth   \n",
       "4  2010  Actor -- Leading Role     James Franco   \n",
       "\n",
       "                          Additional Info Won? Unnamed: 5 Unnamed: 6  \\\n",
       "0                      Biutiful {'Uxbal'}   NO        NaN        NaN   \n",
       "1           True Grit {'Rooster Cogburn'}   NO        NaN        NaN   \n",
       "2  The Social Network {'Mark Zuckerberg'}   NO        NaN        NaN   \n",
       "3    The King's Speech {'King George VI'}  YES        NaN        NaN   \n",
       "4              127 Hours {'Aron Ralston'}   NO        NaN        NaN   \n",
       "\n",
       "  Unnamed: 7 Unnamed: 8 Unnamed: 9 Unnamed: 10  Won  \n",
       "0        NaN        NaN        NaN         NaN  0.0  \n",
       "1        NaN        NaN        NaN         NaN  0.0  \n",
       "2        NaN        NaN        NaN         NaN  0.0  \n",
       "3        NaN        NaN        NaN         NaN  1.0  \n",
       "4        NaN        NaN        NaN         NaN  0.0  "
      ]
     },
     "execution_count": 26,
     "metadata": {},
     "output_type": "execute_result"
    }
   ],
   "source": [
    "later_than_2000 = df[df[\"Year\"]>2000]\n",
    "award_categories = [\"Actor -- Leading Role\", \n",
    "                    \"Actor -- Supporting Role\", \n",
    "                    \"Actress -- Leading Role\", \n",
    "                    \"Actress -- Supporting Role\"]\n",
    "\n",
    "nominations = later_than_2000[later_than_2000[\"Category\"].isin(award_categories)]\n",
    "nominations.head()"
   ]
  },
  {
   "cell_type": "markdown",
   "metadata": {},
   "source": [
    "Let's see if the \"Unnamed\" columns contain any information in our new dataframe."
   ]
  },
  {
   "cell_type": "code",
   "execution_count": 27,
   "metadata": {
    "collapsed": false
   },
   "outputs": [
    {
     "name": "stdout",
     "output_type": "stream",
     "text": [
      "Series([], Name: Unnamed: 5, dtype: int64)\n",
      "Series([], Name: Unnamed: 6, dtype: int64)\n",
      "Series([], Name: Unnamed: 7, dtype: int64)\n",
      "Series([], Name: Unnamed: 8, dtype: int64)\n",
      "Series([], Name: Unnamed: 9, dtype: int64)\n",
      "Series([], Name: Unnamed: 10, dtype: int64)\n"
     ]
    }
   ],
   "source": [
    "print(nominations[\"Unnamed: 5\"].value_counts())\n",
    "print(nominations[\"Unnamed: 6\"].value_counts())\n",
    "print(nominations[\"Unnamed: 7\"].value_counts())\n",
    "print(nominations[\"Unnamed: 8\"].value_counts())\n",
    "print(nominations[\"Unnamed: 9\"].value_counts())\n",
    "print(nominations[\"Unnamed: 10\"].value_counts())"
   ]
  },
  {
   "cell_type": "markdown",
   "metadata": {},
   "source": [
    "Nope. Let's get rid of them. We also want to get rid of the extra \"Won?\" column."
   ]
  },
  {
   "cell_type": "code",
   "execution_count": 28,
   "metadata": {
    "collapsed": false
   },
   "outputs": [
    {
     "data": {
      "text/html": [
       "<div>\n",
       "<table border=\"1\" class=\"dataframe\">\n",
       "  <thead>\n",
       "    <tr style=\"text-align: right;\">\n",
       "      <th></th>\n",
       "      <th>Year</th>\n",
       "      <th>Category</th>\n",
       "      <th>Nominee</th>\n",
       "      <th>Additional Info</th>\n",
       "      <th>Won</th>\n",
       "    </tr>\n",
       "  </thead>\n",
       "  <tbody>\n",
       "    <tr>\n",
       "      <th>0</th>\n",
       "      <td>2010</td>\n",
       "      <td>Actor -- Leading Role</td>\n",
       "      <td>Javier Bardem</td>\n",
       "      <td>Biutiful {'Uxbal'}</td>\n",
       "      <td>0</td>\n",
       "    </tr>\n",
       "    <tr>\n",
       "      <th>1</th>\n",
       "      <td>2010</td>\n",
       "      <td>Actor -- Leading Role</td>\n",
       "      <td>Jeff Bridges</td>\n",
       "      <td>True Grit {'Rooster Cogburn'}</td>\n",
       "      <td>0</td>\n",
       "    </tr>\n",
       "    <tr>\n",
       "      <th>2</th>\n",
       "      <td>2010</td>\n",
       "      <td>Actor -- Leading Role</td>\n",
       "      <td>Jesse Eisenberg</td>\n",
       "      <td>The Social Network {'Mark Zuckerberg'}</td>\n",
       "      <td>0</td>\n",
       "    </tr>\n",
       "    <tr>\n",
       "      <th>3</th>\n",
       "      <td>2010</td>\n",
       "      <td>Actor -- Leading Role</td>\n",
       "      <td>Colin Firth</td>\n",
       "      <td>The King's Speech {'King George VI'}</td>\n",
       "      <td>1</td>\n",
       "    </tr>\n",
       "    <tr>\n",
       "      <th>4</th>\n",
       "      <td>2010</td>\n",
       "      <td>Actor -- Leading Role</td>\n",
       "      <td>James Franco</td>\n",
       "      <td>127 Hours {'Aron Ralston'}</td>\n",
       "      <td>0</td>\n",
       "    </tr>\n",
       "  </tbody>\n",
       "</table>\n",
       "</div>"
      ],
      "text/plain": [
       "   Year               Category          Nominee  \\\n",
       "0  2010  Actor -- Leading Role    Javier Bardem   \n",
       "1  2010  Actor -- Leading Role     Jeff Bridges   \n",
       "2  2010  Actor -- Leading Role  Jesse Eisenberg   \n",
       "3  2010  Actor -- Leading Role      Colin Firth   \n",
       "4  2010  Actor -- Leading Role     James Franco   \n",
       "\n",
       "                          Additional Info  Won  \n",
       "0                      Biutiful {'Uxbal'}    0  \n",
       "1           True Grit {'Rooster Cogburn'}    0  \n",
       "2  The Social Network {'Mark Zuckerberg'}    0  \n",
       "3    The King's Speech {'King George VI'}    1  \n",
       "4              127 Hours {'Aron Ralston'}    0  "
      ]
     },
     "execution_count": 28,
     "metadata": {},
     "output_type": "execute_result"
    }
   ],
   "source": [
    "to_drop = [\"Won?\", \"Unnamed: 5\", \"Unnamed: 6\", \"Unnamed: 7\", \"Unnamed: 8\", \"Unnamed: 9\", \"Unnamed: 10\"]\n",
    "final_nominations = nominations.drop(to_drop, axis=1)\n",
    "final_nominations[\"Won\"] = final_nominations[\"Won\"].astype(int)\n",
    "final_nominations.head()"
   ]
  },
  {
   "cell_type": "markdown",
   "metadata": {},
   "source": [
    "This is looking much better. Now let's separate the \"Additional Info\" column into separate \"Movie\" and \"Character\" columns."
   ]
  },
  {
   "cell_type": "code",
   "execution_count": 29,
   "metadata": {
    "collapsed": false
   },
   "outputs": [
    {
     "name": "stdout",
     "output_type": "stream",
     "text": [
      "0                        Biutiful {'Uxbal\n",
      "1             True Grit {'Rooster Cogburn\n",
      "2    The Social Network {'Mark Zuckerberg\n",
      "3      The King's Speech {'King George VI\n",
      "4                127 Hours {'Aron Ralston\n",
      "Name: Additional Info, dtype: object\n",
      "0                        [Biutiful, Uxbal]\n",
      "1             [True Grit, Rooster Cogburn]\n",
      "2    [The Social Network, Mark Zuckerberg]\n",
      "3      [The King's Speech, King George VI]\n",
      "4                [127 Hours, Aron Ralston]\n",
      "Name: Additional Info, dtype: object\n"
     ]
    },
    {
     "data": {
      "text/html": [
       "<div>\n",
       "<table border=\"1\" class=\"dataframe\">\n",
       "  <thead>\n",
       "    <tr style=\"text-align: right;\">\n",
       "      <th></th>\n",
       "      <th>Year</th>\n",
       "      <th>Category</th>\n",
       "      <th>Nominee</th>\n",
       "      <th>Won</th>\n",
       "      <th>Movie</th>\n",
       "      <th>Character</th>\n",
       "    </tr>\n",
       "  </thead>\n",
       "  <tbody>\n",
       "    <tr>\n",
       "      <th>0</th>\n",
       "      <td>2010</td>\n",
       "      <td>Actor -- Leading Role</td>\n",
       "      <td>Javier Bardem</td>\n",
       "      <td>0</td>\n",
       "      <td>Biutiful</td>\n",
       "      <td>Uxbal</td>\n",
       "    </tr>\n",
       "    <tr>\n",
       "      <th>1</th>\n",
       "      <td>2010</td>\n",
       "      <td>Actor -- Leading Role</td>\n",
       "      <td>Jeff Bridges</td>\n",
       "      <td>0</td>\n",
       "      <td>True Grit</td>\n",
       "      <td>Rooster Cogburn</td>\n",
       "    </tr>\n",
       "    <tr>\n",
       "      <th>2</th>\n",
       "      <td>2010</td>\n",
       "      <td>Actor -- Leading Role</td>\n",
       "      <td>Jesse Eisenberg</td>\n",
       "      <td>0</td>\n",
       "      <td>The Social Network</td>\n",
       "      <td>Mark Zuckerberg</td>\n",
       "    </tr>\n",
       "    <tr>\n",
       "      <th>3</th>\n",
       "      <td>2010</td>\n",
       "      <td>Actor -- Leading Role</td>\n",
       "      <td>Colin Firth</td>\n",
       "      <td>1</td>\n",
       "      <td>The King's Speech</td>\n",
       "      <td>King George VI</td>\n",
       "    </tr>\n",
       "    <tr>\n",
       "      <th>4</th>\n",
       "      <td>2010</td>\n",
       "      <td>Actor -- Leading Role</td>\n",
       "      <td>James Franco</td>\n",
       "      <td>0</td>\n",
       "      <td>127 Hours</td>\n",
       "      <td>Aron Ralston</td>\n",
       "    </tr>\n",
       "  </tbody>\n",
       "</table>\n",
       "</div>"
      ],
      "text/plain": [
       "   Year               Category          Nominee  Won               Movie  \\\n",
       "0  2010  Actor -- Leading Role    Javier Bardem    0            Biutiful   \n",
       "1  2010  Actor -- Leading Role     Jeff Bridges    0           True Grit   \n",
       "2  2010  Actor -- Leading Role  Jesse Eisenberg    0  The Social Network   \n",
       "3  2010  Actor -- Leading Role      Colin Firth    1   The King's Speech   \n",
       "4  2010  Actor -- Leading Role     James Franco    0           127 Hours   \n",
       "\n",
       "         Character  \n",
       "0            Uxbal  \n",
       "1  Rooster Cogburn  \n",
       "2  Mark Zuckerberg  \n",
       "3   King George VI  \n",
       "4     Aron Ralston  "
      ]
     },
     "execution_count": 29,
     "metadata": {},
     "output_type": "execute_result"
    }
   ],
   "source": [
    "# Remove the apostrophe and bracket at the end of the line.\n",
    "additional_info_one = final_nominations[\"Additional Info\"].str.rstrip(\"'}\")\n",
    "print(additional_info_one.head())\n",
    "\n",
    "# Split the string on the remaining bracket and apostrophe, creating a list containing the movie title and character name.\n",
    "additional_info_two = additional_info_one.str.split(\" {'\")\n",
    "print(additional_info_two.head())\n",
    "\n",
    "# Create the appropriate columns for the resulting data.\n",
    "final_nominations[\"Movie\"] = additional_info_two.str[0]\n",
    "final_nominations[\"Character\"] = additional_info_two.str[1]\n",
    "\n",
    "# Drop the original (redundant) column.\n",
    "final_nominations = final_nominations.drop([\"Additional Info\"], axis=1)\n",
    "final_nominations.head()\n"
   ]
  },
  {
   "cell_type": "markdown",
   "metadata": {},
   "source": [
    "# Writing the data to a SQL database"
   ]
  },
  {
   "cell_type": "code",
   "execution_count": 30,
   "metadata": {
    "collapsed": false
   },
   "outputs": [
    {
     "data": {
      "text/plain": [
       "[(0, 'Year', 'INTEGER', 0, None, 0),\n",
       " (1, 'Category', 'TEXT', 0, None, 0),\n",
       " (2, 'Nominee', 'TEXT', 0, None, 0),\n",
       " (3, 'Won', 'INTEGER', 0, None, 0),\n",
       " (4, 'Movie', 'TEXT', 0, None, 0),\n",
       " (5, 'Character', 'TEXT', 0, None, 0)]"
      ]
     },
     "execution_count": 30,
     "metadata": {},
     "output_type": "execute_result"
    }
   ],
   "source": [
    "# Import SQLite, connect, and create a database by exporting the final_nominations dataframe to SQLite.\n",
    "# The SQLite database will be named \"nominations.db\".\n",
    "# The table containing the data from final_nominations will be named \"nominations\".\n",
    "\n",
    "import sqlite3\n",
    "conn = sqlite3.connect(\"nominations.db\")\n",
    "\n",
    "# Delete the table nominations if it already exists--in case you want to run this cell multiple times.\n",
    "conn.execute(\"drop table if exists nominations;\")\n",
    "\n",
    "final_nominations.to_sql(\"nominations\", conn, index=False, if_exists=\"append\")\n",
    "\n",
    "# Check to see that the columns in the table are correct.\n",
    "c = conn.cursor()\n",
    "info = c.execute(\"pragma table_info(nominations);\").fetchall()\n",
    "info"
   ]
  },
  {
   "cell_type": "code",
   "execution_count": 31,
   "metadata": {
    "collapsed": false
   },
   "outputs": [
    {
     "name": "stdout",
     "output_type": "stream",
     "text": [
      "(2010, 'Actor -- Leading Role', 'Javier Bardem', 0, 'Biutiful', 'Uxbal')\n",
      "(2010, 'Actor -- Leading Role', 'Jeff Bridges', 0, 'True Grit', 'Rooster Cogburn')\n",
      "(2010, 'Actor -- Leading Role', 'Jesse Eisenberg', 0, 'The Social Network', 'Mark Zuckerberg')\n",
      "(2010, 'Actor -- Leading Role', 'Colin Firth', 1, \"The King's Speech\", 'King George VI')\n",
      "(2010, 'Actor -- Leading Role', 'James Franco', 0, '127 Hours', 'Aron Ralston')\n",
      "(2010, 'Actor -- Supporting Role', 'Christian Bale', 1, 'The Fighter', 'Dicky Eklund')\n",
      "(2010, 'Actor -- Supporting Role', 'John Hawkes', 0, \"Winter's Bone\", 'Teardrop')\n",
      "(2010, 'Actor -- Supporting Role', 'Jeremy Renner', 0, 'The Town', 'James Coughlin')\n",
      "(2010, 'Actor -- Supporting Role', 'Mark Ruffalo', 0, 'The Kids Are All Right', 'Paul')\n",
      "(2010, 'Actor -- Supporting Role', 'Geoffrey Rush', 0, \"The King's Speech\", 'Lionel Logue')\n"
     ]
    }
   ],
   "source": [
    "# Query the database to make sure the database creation worked.\n",
    "head = c.execute(\"select * from nominations limit 10;\").fetchall()\n",
    "for row in head:\n",
    "    print(row)"
   ]
  },
  {
   "cell_type": "markdown",
   "metadata": {},
   "source": [
    "# Creating relations in SQLite"
   ]
  },
  {
   "cell_type": "markdown",
   "metadata": {},
   "source": [
    "We want to add more information to our dataset--namely, information about who hosted the ceremonies for the nominations in question. There would be a lot of repeated values if we entered this into a new column in the nominations table. We can be more efficient by creating a separate table for ceremonies, where each row represents a ceremony. We will create a new table for nominations, nominations_two. This table does not include the year, but instead includes ceremony_id, which refers to a row in ceremonies, giving us information about the year and host."
   ]
  },
  {
   "cell_type": "code",
   "execution_count": 32,
   "metadata": {
    "collapsed": false
   },
   "outputs": [
    {
     "data": {
      "text/plain": [
       "[(1, 2010, 'Steve Martin'),\n",
       " (2, 2009, 'Hugh Jackman'),\n",
       " (3, 2008, 'Jon Stewart'),\n",
       " (4, 2007, 'Ellen DeGeneres'),\n",
       " (5, 2006, 'Jon Stewart'),\n",
       " (6, 2005, 'Chris Rock'),\n",
       " (7, 2004, 'Billy Crystal'),\n",
       " (8, 2003, 'Steve Martin'),\n",
       " (9, 2002, 'Whoopi Goldberg'),\n",
       " (10, 2001, 'Steve Martin'),\n",
       " (11, 2000, 'Billy Crystal')]"
      ]
     },
     "execution_count": 32,
     "metadata": {},
     "output_type": "execute_result"
    }
   ],
   "source": [
    "# This list of tuples gives the host for each year's ceremony from 2000 to 2010. Source: Wikipedia.\n",
    "years_hosts = [(2010, \"Steve Martin\"),\n",
    "               (2009, \"Hugh Jackman\"),\n",
    "               (2008, \"Jon Stewart\"),\n",
    "               (2007, \"Ellen DeGeneres\"),\n",
    "               (2006, \"Jon Stewart\"),\n",
    "               (2005, \"Chris Rock\"),\n",
    "               (2004, \"Billy Crystal\"),\n",
    "               (2003, \"Steve Martin\"),\n",
    "               (2002, \"Whoopi Goldberg\"),\n",
    "               (2001, \"Steve Martin\"),\n",
    "               (2000, \"Billy Crystal\"),\n",
    "            ]\n",
    "\n",
    "# Delete the table ceremonies if it already exists--in case you want to run this cell multiple times.\n",
    "conn.execute(\"drop table if exists ceremonies;\")\n",
    "\n",
    "# Create a new table for ceremonies with the schema containing columns for the year and the host.\n",
    "create_ceremonies = \"create table ceremonies(id integer primary key, year integer, host text);\"\n",
    "conn.execute(create_ceremonies)\n",
    "\n",
    "# Use executemany to enter all the years_hosts tuples into ceremonies\n",
    "insert_query = \"insert into ceremonies (year, host) values (?,?);\"\n",
    "conn.executemany(insert_query, years_hosts)\n",
    "\n",
    "ceremonies = conn.execute(\"select * from ceremonies;\").fetchall()\n",
    "ceremonies"
   ]
  },
  {
   "cell_type": "code",
   "execution_count": 33,
   "metadata": {
    "collapsed": false
   },
   "outputs": [
    {
     "data": {
      "text/plain": [
       "[(0, 'id', 'integer', 0, None, 1),\n",
       " (1, 'year', 'integer', 0, None, 0),\n",
       " (2, 'host', 'text', 0, None, 0)]"
      ]
     },
     "execution_count": 33,
     "metadata": {},
     "output_type": "execute_result"
    }
   ],
   "source": [
    "ceremonies_info = conn.execute(\"pragma table_info(ceremonies)\").fetchall()\n",
    "ceremonies_info"
   ]
  },
  {
   "cell_type": "code",
   "execution_count": 34,
   "metadata": {
    "collapsed": false
   },
   "outputs": [
    {
     "data": {
      "text/plain": [
       "<sqlite3.Cursor at 0x10c85ec00>"
      ]
     },
     "execution_count": 34,
     "metadata": {},
     "output_type": "execute_result"
    }
   ],
   "source": [
    "# Turn on foreign key constraints to avoid inserting rows with foreign key values that don't exist.\n",
    "conn.execute(\"pragma foreign_keys = on;\")"
   ]
  },
  {
   "cell_type": "code",
   "execution_count": 35,
   "metadata": {
    "collapsed": false
   },
   "outputs": [
    {
     "name": "stdout",
     "output_type": "stream",
     "text": [
      "(1, 'Actor -- Leading Role', 'Javier Bardem', 'Biutiful', 'Uxbal', '0', 1)\n",
      "(2, 'Actor -- Leading Role', 'Jeff Bridges', 'True Grit', 'Rooster Cogburn', '0', 1)\n",
      "(3, 'Actor -- Leading Role', 'Jesse Eisenberg', 'The Social Network', 'Mark Zuckerberg', '0', 1)\n",
      "(4, 'Actor -- Leading Role', 'Colin Firth', \"The King's Speech\", 'King George VI', '1', 1)\n",
      "(5, 'Actor -- Leading Role', 'James Franco', '127 Hours', 'Aron Ralston', '0', 1)\n"
     ]
    }
   ],
   "source": [
    "# Delete the table nominations_two if it already exists--in case you want to run this cell multiple times.\n",
    "conn.execute(\"drop table if exists nominations_two;\")\n",
    "\n",
    "# Create table \"nominations_two\" with the schema we want.\n",
    "# We want all the info from nominations except the year, plus a foreign key for ceremony_id.\n",
    "create_nominations_two = '''create table nominations_two \n",
    "(id integer primary key, \n",
    "category text, \n",
    "nominee text, \n",
    "movie text, \n",
    "character text, \n",
    "won text,\n",
    "ceremony_id integer,\n",
    "foreign key(ceremony_id) references ceremonies(id));\n",
    "'''\n",
    "\n",
    "conn.execute(create_nominations_two)\n",
    "\n",
    "\n",
    "# Use an inner join to select all of the data needed from nominations and ceremonies to populate nominations_two.\n",
    "nom_query = '''\n",
    "select ceremonies.id as ceremony_id, nominations.category as category, \n",
    "nominations.nominee as nominee, nominations.movie as movie, \n",
    "nominations.character as character, nominations.won as won\n",
    "from nominations\n",
    "inner join ceremonies \n",
    "on nominations.year == ceremonies.year\n",
    ";\n",
    "'''\n",
    "\n",
    "joined_nominations = conn.execute(nom_query).fetchall()\n",
    "\n",
    "\n",
    "# Populate nominations_two using executemany. \n",
    "insert_nominations_two = \"insert into nominations_two (ceremony_id, category, nominee, movie, character, won) values (?,?,?,?,?,?);\"\n",
    "conn.executemany(insert_nominations_two, joined_nominations)\n",
    "\n",
    "first_five = conn.execute(\"select * from nominations_two limit 5;\").fetchall()\n",
    "for row in first_five:\n",
    "    print(row)"
   ]
  },
  {
   "cell_type": "code",
   "execution_count": 36,
   "metadata": {
    "collapsed": false
   },
   "outputs": [
    {
     "data": {
      "text/plain": [
       "'\\nconn.execute(\"drop table nominations;\")\\nconn.execute(\"alter table nominations_two rename to nominations;\")\\n'"
      ]
     },
     "execution_count": 36,
     "metadata": {},
     "output_type": "execute_result"
    }
   ],
   "source": [
    "# In typical workflow, we would delete the original nominations table and rename the new table back to the original name.\n",
    "# I am commenting this step out because I want to retain both tables in order to run the cells in this notebook repeatedly. \n",
    "# Moving forward, I will continue working with nominations_two.\n",
    "'''\n",
    "conn.execute(\"drop table nominations;\")\n",
    "conn.execute(\"alter table nominations_two rename to nominations;\")\n",
    "'''"
   ]
  },
  {
   "cell_type": "markdown",
   "metadata": {},
   "source": [
    "# Creating a join table\n",
    "\n",
    "In this step, we will create three separate tables: a movies table, in which each row represents a movie; an actors table, in which each row represents an actor, and a join table, in which each row represents a nomination and contains the foreign keys that refer to the movie and actor pertaining to that nomination."
   ]
  },
  {
   "cell_type": "code",
   "execution_count": 37,
   "metadata": {
    "collapsed": false
   },
   "outputs": [
    {
     "name": "stdout",
     "output_type": "stream",
     "text": [
      "(1, 'Biutiful')\n",
      "(2, 'True Grit')\n",
      "(3, 'The Social Network')\n",
      "(4, \"The King's Speech\")\n",
      "(5, '127 Hours')\n",
      "(1, 'Javier Bardem')\n",
      "(2, 'Jeff Bridges')\n",
      "(3, 'Jesse Eisenberg')\n",
      "(4, 'Colin Firth')\n",
      "(5, 'James Franco')\n"
     ]
    },
    {
     "data": {
      "text/plain": [
       "[(1, 1, 1),\n",
       " (2, 2, 2),\n",
       " (3, 3, 3),\n",
       " (4, 4, 4),\n",
       " (5, 5, 5),\n",
       " (6, 6, 6),\n",
       " (7, 7, 7),\n",
       " (8, 8, 8),\n",
       " (9, 9, 9),\n",
       " (10, 4, 10),\n",
       " (11, 9, 11),\n",
       " (12, 10, 12),\n",
       " (13, 7, 13),\n",
       " (14, 11, 14),\n",
       " (15, 12, 15),\n",
       " (16, 6, 16),\n",
       " (17, 4, 17),\n",
       " (18, 6, 18),\n",
       " (19, 2, 19),\n",
       " (20, 13, 20)]"
      ]
     },
     "execution_count": 37,
     "metadata": {},
     "output_type": "execute_result"
    }
   ],
   "source": [
    "# Delete the three tables if they already exist--in case you want to run this cell multiple times.\n",
    "conn.execute(\"drop table if exists movies;\")\n",
    "conn.execute(\"drop table if exists actors;\")\n",
    "conn.execute(\"drop table if exists movies_actors;\")\n",
    "\n",
    "# Create the three tables with the appropriate schemas.\n",
    "conn.execute(\"create table movies (id integer primary key, movie text);\")\n",
    "conn.execute(\"create table actors (id integer primary key, actor text);\")\n",
    "conn.execute(\"create table movies_actors (id integer primary key, movie_id integer references movies(id), actor_id integer references actors(id));\")\n",
    "\n",
    "\n",
    "# Populate movies. \n",
    "insert_movies = \"insert into movies (movie) select distinct movie from nominations_two;\"\n",
    "conn.execute(insert_movies)\n",
    "\n",
    "five_movies = conn.execute(\"select * from movies limit 5;\").fetchall()\n",
    "for row in five_movies:\n",
    "    print(row)\n",
    "\n",
    "    \n",
    "# Populate actors.\n",
    "insert_actors = \"insert into actors (actor) select distinct nominee from nominations_two;\"\n",
    "conn.execute(insert_actors)\n",
    "\n",
    "five_actors = conn.execute(\"select * from actors limit 5;\").fetchall()\n",
    "for row in five_actors:\n",
    "    print(row)\n",
    "    \n",
    "    \n",
    "# Populate the join table.\n",
    "pairs_query = \"select movie, nominee from nominations_two;\"\n",
    "movie_actor_pairs = conn.execute(pairs_query).fetchall()\n",
    "\n",
    "join_table_insert = \"insert into movies_actors (movie_id, actor_id) values ((select id from movies where movie == ?), (select id from actors where actor == ?));\"\n",
    "conn.executemany(join_table_insert, movie_actor_pairs)\n",
    "\n",
    "# Display the beginning of the join table.\n",
    "twenty = conn.execute(\"select * from movies_actors limit 20;\").fetchall()\n",
    "twenty\n"
   ]
  },
  {
   "cell_type": "markdown",
   "metadata": {},
   "source": [
    "This concludes the project. We now have some nice, efficient tables that relate to each other and help us look at data about Academy Award actor/actress nominations from 2000 to 2010. "
   ]
  },
  {
   "cell_type": "code",
   "execution_count": 38,
   "metadata": {
    "collapsed": false
   },
   "outputs": [],
   "source": [
    "# Close the connection. \n",
    "conn.close()"
   ]
  }
 ],
 "metadata": {
  "kernelspec": {
   "display_name": "Python 3",
   "language": "python",
   "name": "python3"
  },
  "language_info": {
   "codemirror_mode": {
    "name": "ipython",
    "version": 3
   },
   "file_extension": ".py",
   "mimetype": "text/x-python",
   "name": "python",
   "nbconvert_exporter": "python",
   "pygments_lexer": "ipython3",
   "version": "3.5.2"
  }
 },
 "nbformat": 4,
 "nbformat_minor": 0
}
